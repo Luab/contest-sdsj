{
 "cells": [
  {
   "cell_type": "code",
   "execution_count": 1,
   "metadata": {
    "ExecuteTime": {
     "end_time": "2016-11-07T00:56:27.936356",
     "start_time": "2016-11-07T00:56:27.483002"
    },
    "collapsed": true
   },
   "outputs": [],
   "source": [
    "import pandas as pd\n",
    "import numpy as np\n",
    "\n",
    "from sklearn.feature_extraction import FeatureHasher\n",
    "from sklearn.linear_model import LinearRegression\n",
    "from sklearn.preprocessing import StandardScaler\n",
    "\n",
    "from scipy import sparse\n",
    "from itertools import product"
   ]
  },
  {
   "cell_type": "code",
   "execution_count": null,
   "metadata": {
    "collapsed": true
   },
   "outputs": [],
   "source": [
    "# Читаем входные данные\n",
    "transactions = pd.read_csv('../data/raw/transactions.csv')\n",
    "customers_gender = pd.read_csv('../data/raw/customers_gender_train.csv')\n",
    "cuses_test = list(set(transactions.customer_id.unique().tolist()).difference(customers_gender.customer_id.unique()))\n",
    "all_cuses = transactions.customer_id.unique()\n",
    "all_mcc = transactions.mcc_code.unique()\n",
    "\n",
    "# Берём расходные транзакции и формируем тестовую выборку\n",
    "transactions = transactions[transactions.amount < 0].copy()\n",
    "transactions['day'] = transactions.tr_datetime.apply(lambda dt: dt.split()[0]).astype(int)\n",
    "\n",
    "# Сдвигаем нумерацию дней для того, чтобы окончание обучающих данных совпало с окончанием месяца\n",
    "transactions.day += 29 - transactions['day'].max()%30\n",
    "\n",
    "# Добавляем признаки, относящиеся к дате.\n",
    "transactions['month_num'] = (transactions.day) // 30\n",
    "transactions['year_num'] = (transactions.day) // 365\n",
    "\n",
    "test_transactions = transactions[transactions.month_num == 15]\n",
    "train_transactions = transactions[transactions.month_num < 15]\n",
    "\n",
    "test_transactions = test_transactions.set_index('customer_id')\n",
    "test_transactions = test_transactions.loc[cuses_test]\n",
    "test_transactions = test_transactions.reset_index()\n",
    "\n",
    "grid = list(product(*[all_cuses, all_mcc, range(10, 15)]))\n",
    "train_grid = pd.DataFrame(grid, columns = ['customer_id', 'mcc_code', 'month_num'])\n",
    "\n",
    "test_grid = list(product(*[cuses_test, all_mcc]))       \n",
    "test_grid = pd.DataFrame(test_grid, columns = ['customer_id', 'mcc_code'])\n",
    "test_grid['month_num'] = 15\n",
    "\n",
    "test = pd.merge(test_grid,\n",
    "         test_transactions.groupby(['year_num', 'month_num', 'customer_id', 'mcc_code'])[['amount']].sum().reset_index(),\n",
    "         how='left').fillna(0)\n",
    "\n",
    "train = pd.merge(train_grid,\n",
    "         train_transactions.groupby(['year_num', 'month_num', 'customer_id', 'mcc_code'])[['amount']].sum().reset_index(),\n",
    "         how='left').fillna(0)\n",
    "\n",
    "for month_shift in range(1, 3):\n",
    "    train_shift = train.copy()\n",
    "    train_shift['month_num'] = train_shift['month_num'] + month_shift\n",
    "    train_shift = train_shift.rename(columns={\"amount\" : 'amount_{0}'.format(month_shift)})  \n",
    "    train_shift = train_shift[['year_num', 'month_num', 'customer_id', 'mcc_code', 'amount_{0}'.format(month_shift)]]\n",
    "\n",
    "    train = pd.merge(train, train_shift, \n",
    "                                  on=['year_num', 'month_num', 'customer_id', 'mcc_code'], how='left').fillna(0)\n",
    "    test = pd.merge(test, train_shift, \n",
    "                                 on=['year_num', 'month_num', 'customer_id', 'mcc_code'], how='left').fillna(0)\n",
    "\n",
    "hasher = FeatureHasher(n_features=10000, input_type='string')\n",
    "train_sparse = \\\n",
    "    hasher.fit_transform(train[['year_num', 'month_num', 'customer_id', 'mcc_code']].astype(str).as_matrix())\n",
    "\n",
    "test_sparse = \\\n",
    "    hasher.transform(test[['year_num', 'month_num', 'customer_id', 'mcc_code']].astype(str).as_matrix())\n",
    "\n",
    "train_sparse = sparse.hstack([train_sparse,\n",
    "                              np.log(np.abs(train[['amount_1', 'amount_2']]) + 1).as_matrix()\n",
    "                             ])\n",
    "\n",
    "test_sparse = sparse.hstack([test_sparse,\n",
    "                             np.log(np.abs(test[['amount_1', 'amount_2']]) + 1).as_matrix()\n",
    "                            ])"
   ]
  },
  {
   "cell_type": "code",
   "execution_count": null,
   "metadata": {
    "collapsed": true
   },
   "outputs": [],
   "source": [
    "# Применяем StandardScalar\n",
    "\n",
    "scaler = StandardScaler(with_mean=False)\n",
    "scaler.fit(train_sparse)\n",
    "train_sparse_scaled = scaler.fit_transform(train_sparse)\n",
    "test_sparse_scaled = scaler.fit_transform(test_sparse)"
   ]
  },
  {
   "cell_type": "code",
   "execution_count": null,
   "metadata": {
    "collapsed": true
   },
   "outputs": [],
   "source": [
    "# Обучаемся на всех данных\n",
    "\n",
    "shift = 1\n",
    "clf = LinearRegression()\n",
    "clf.fit(train_sparse_scaled, np.log(-train['amount'] + shift))"
   ]
  },
  {
   "cell_type": "code",
   "execution_count": null,
   "metadata": {
    "collapsed": true
   },
   "outputs": [],
   "source": [
    "# Предсказываем объём трат для тестовых данных и создаём файл с ответом\n",
    "\n",
    "test['volume'] = np.e ** clf.predict(test_sparse_scaled) - shift\n",
    "test[['customer_id', 'mcc_code', 'volume']].to_csv('../data/submits/task3.csv', index=False)"
   ]
  }
 ],
 "metadata": {
  "kernelspec": {
   "display_name": "Python 2",
   "language": "python",
   "name": "python2"
  },
  "language_info": {
   "codemirror_mode": {
    "name": "ipython",
    "version": 2
   },
   "file_extension": ".py",
   "mimetype": "text/x-python",
   "name": "python",
   "nbconvert_exporter": "python",
   "pygments_lexer": "ipython2",
   "version": "2.7.10"
  },
  "latex_envs": {
   "bibliofile": "biblio.bib",
   "cite_by": "apalike",
   "current_citInitial": 1,
   "eqLabelWithNumbers": true,
   "eqNumInitial": 0
  },
  "widgets": {
   "state": {},
   "version": "1.1.2"
  }
 },
 "nbformat": 4,
 "nbformat_minor": 0
}
