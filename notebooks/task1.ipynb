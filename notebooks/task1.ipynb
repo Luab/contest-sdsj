{
 "cells": [
  {
   "cell_type": "code",
   "execution_count": null,
   "metadata": {
    "collapsed": true
   },
   "outputs": [],
   "source": [
    "import pandas as pd\n",
    "import numpy as np\n",
    "\n",
    "from sklearn.ensemble import GradientBoostingClassifier, ExtraTreesClassifier, RandomForestClassifier\n",
    "from sklearn.preprocessing import RobustScaler\n",
    "\n",
    "import xgboost\n",
    "\n",
    "from sklearn.model_selection import StratifiedKFold\n",
    "from sklearn.metrics import roc_auc_score\n",
    "\n",
    "from tqdm import tqdm_notebook\n",
    "import matplotlib.pyplot as plt\n",
    "import seaborn as sns\n",
    "%matplotlib inline"
   ]
  },
  {
   "cell_type": "markdown",
   "metadata": {},
   "source": [
    "Загрузка выборки, генерация признака amount>0, очистка данных"
   ]
  },
  {
   "cell_type": "code",
   "execution_count": null,
   "metadata": {
    "collapsed": true
   },
   "outputs": [],
   "source": [
    "transactions = pd.read_csv('../data/raw/transactions.csv')\n",
    "customers_gender = pd.read_csv('../data/raw/customers_gender_train.csv')\n",
    "\n",
    "# Генерим важный признак для разделения на transactions[amount>0] и transactions[amount<0]\n",
    "transactions['amount>0'] = transactions['amount'].apply(lambda x : int(x>0))\n",
    "\n",
    "# (http://scikit-learn.org/stable/modules/generated/sklearn.preprocessing.RobustScaler.html)\n",
    "robust_scaler = RobustScaler()\n",
    "transactions['amount'] = robust_scaler.fit_transform(transactions['amount'])"
   ]
  },
  {
   "cell_type": "markdown",
   "metadata": {},
   "source": [
    "Генерация признаков, связанных с временем"
   ]
  },
  {
   "cell_type": "code",
   "execution_count": null,
   "metadata": {
    "collapsed": true
   },
   "outputs": [],
   "source": [
    "# признаки для времени\n",
    "transactions['day'] = transactions['tr_datetime'].apply(lambda s : int(s.split(' ')[0])) + 1\n",
    "transactions['weekday'] = transactions['day'] % 7 + 1\n",
    "transactions['date'] = transactions['tr_datetime'].apply(lambda s : s.split(' ')[1])\n",
    "transactions['h_date'] = transactions['date'].apply(lambda t : t.split(':')[0])\n",
    "\n",
    "del transactions['tr_datetime']"
   ]
  },
  {
   "cell_type": "markdown",
   "metadata": {},
   "source": [
    "(*) Пачка из 13 групп признаков (различные статистики) для произвольного amount (не разделения на amount>0)"
   ]
  },
  {
   "cell_type": "code",
   "execution_count": null,
   "metadata": {
    "collapsed": true
   },
   "outputs": [],
   "source": [
    "# \"Базовая фича\" - Количество покупок по каждой категории\n",
    "\n",
    "X = transactions.groupby('customer_id') \\\n",
    "                    .apply(lambda x: x[['mcc_code']].unstack().value_counts()) \\\n",
    "                    .unstack() \\\n",
    "                    .fillna(0)\n",
    "X.rename(columns=lambda x: 'mcc_code_value_counts_'+str(x), inplace=True)\n",
    "\n",
    "# Сумма покупок по каждой категории\n",
    "F2 = transactions.groupby('customer_id').apply(lambda x : x.groupby('mcc_code')['amount'].sum()).unstack().fillna(0)\n",
    "F2.rename(columns=lambda x: 'sum_'+str(x), inplace=True)\n",
    "\n",
    "# Максимальная покупока по каждой категории\n",
    "\n",
    "F3 = transactions.groupby('customer_id').apply(lambda x : x.groupby('mcc_code')['amount'].max()).unstack().fillna(0)\n",
    "F3.rename(columns=lambda x: 'max_'+str(x), inplace=True)\n",
    "\n",
    "# Дисперсия покупока по каждой категории\n",
    "\n",
    "F4 = transactions.groupby('customer_id').apply(lambda x : x.groupby('mcc_code')['amount'].std()).unstack().fillna(0)\n",
    "F4.rename(columns=lambda x: 'std_'+str(x), inplace=True)\n",
    "\n",
    "# Средняя покупка по каждой категории\n",
    "\n",
    "F5 = transactions.groupby('customer_id').apply(lambda x : x.groupby('mcc_code')['amount'].mean()).unstack().fillna(0)\n",
    "F5.rename(columns=lambda x: 'mean_'+str(x), inplace=True)\n",
    "\n",
    "# Количество tr_type\n",
    "F6 = transactions.groupby('customer_id') \\\n",
    "                    .apply(lambda x: x[['tr_type']].unstack().value_counts()) \\\n",
    "                    .unstack() \\\n",
    "                    .fillna(0)\n",
    "F6.rename(columns=lambda x: 'tr_type_value_counts_'+str(x), inplace=True)\n",
    "\n",
    "# Сумма покупок по каждой tr_type\n",
    "F7 = transactions.groupby('customer_id').apply(lambda x : x.groupby('tr_type')['amount'].sum()).unstack().fillna(0)\n",
    "F7.rename(columns=lambda x: 'tr_type_sum_'+str(x), inplace=True)\n",
    "\n",
    "\n",
    "# Max покупока по каждой tr_type\n",
    "F8 = transactions.groupby('customer_id').apply(lambda x : x.groupby('tr_type')['amount'].max()).unstack().fillna(0)\n",
    "F8.rename(columns=lambda x: 'tr_type_max_'+str(x), inplace=True)\n",
    "\n",
    "# Std покупока по каждой tr_type\n",
    "F9 = transactions.groupby('customer_id').apply(lambda x : x.groupby('tr_type')['amount'].std()).unstack().fillna(0)\n",
    "F9.rename(columns=lambda x: 'tr_type_std_'+str(x), inplace=True)\n",
    "\n",
    "# Mean покупока по каждой tr_type\n",
    "F10 = transactions.groupby('customer_id').apply(lambda x : x.groupby('tr_type')['amount'].mean()).unstack().fillna(0)\n",
    "F10.rename(columns=lambda x: 'tr_type_mean_'+str(x), inplace=True)\n",
    "\n",
    "# Сколько дней клиент\n",
    "F11 = pd.DataFrame({\n",
    "        'customer_exp_days':transactions.groupby('customer_id')['day'].apply(lambda x : max(x) - min(x))\n",
    "        })\n",
    "\n",
    "# Количество покупок по дням недели\n",
    "F12 = transactions.groupby('customer_id').apply(lambda x : x.groupby('weekday')['amount'].mean()).unstack().fillna(0)\n",
    "F12.rename(columns=lambda x: 'mean_transactions_count_by_week_day_'+str(x), inplace=True)\n",
    "\n",
    "# Транзакции по часам\n",
    "F13 = transactions.groupby('customer_id').apply(lambda x : x.groupby('h_date')['amount'].mean()).unstack().fillna(0)\n",
    "F13.rename(columns=lambda x: 'mean_transactions_count_by_h_'+str(x), inplace=True)"
   ]
  },
  {
   "cell_type": "markdown",
   "metadata": {},
   "source": [
    "Выделяем транзакции с amount>0 и amount<0"
   ]
  },
  {
   "cell_type": "code",
   "execution_count": null,
   "metadata": {
    "collapsed": true
   },
   "outputs": [],
   "source": [
    "# выделяем на основе зануления\n",
    "transactions_pos = transactions.copy()\n",
    "transactions_pos['amount'] = transactions_pos['amount'] * transactions_pos['amount>0']\n",
    "\n",
    "transactions_neg = transactions.copy()\n",
    "transactions_neg['amount'] = transactions_neg['amount'] * transactions_neg['amount>0'].apply(lambda x : abs(x - 1))"
   ]
  },
  {
   "cell_type": "markdown",
   "metadata": {},
   "source": [
    "Признаки (*) для transactions_pos и transactions_neg"
   ]
  },
  {
   "cell_type": "code",
   "execution_count": null,
   "metadata": {
    "collapsed": true
   },
   "outputs": [],
   "source": [
    "FP1 = transactions_pos.groupby('customer_id') \\\n",
    "                    .apply(lambda x: x[['mcc_code']].unstack().value_counts()) \\\n",
    "                    .unstack() \\\n",
    "                    .fillna(0)\n",
    "FP1.rename(columns=lambda x: 'FP_mcc_code_value_counts_'+str(x), inplace=True)\n",
    "\n",
    "# Сумма покупок по каждой категории\n",
    "FP2 = transactions_pos.groupby('customer_id').apply(lambda x : x.groupby('mcc_code')['amount'].sum()).unstack().fillna(0)\n",
    "FP2.rename(columns=lambda x: 'FP_sum_'+str(x), inplace=True)\n",
    "\n",
    "# Максимальная покупока по каждой категории\n",
    "\n",
    "FP3 = transactions_pos.groupby('customer_id').apply(lambda x : x.groupby('mcc_code')['amount'].max()).unstack().fillna(0)\n",
    "FP3.rename(columns=lambda x: 'FP_max_'+str(x), inplace=True)\n",
    "\n",
    "# Дисперсия покупока по каждой категории\n",
    "\n",
    "FP4 = transactions_pos.groupby('customer_id').apply(lambda x : x.groupby('mcc_code')['amount'].std()).unstack().fillna(0)\n",
    "FP4.rename(columns=lambda x: 'FP_std_'+str(x), inplace=True)\n",
    "\n",
    "# Средняя покупка по каждой категории\n",
    "\n",
    "FP5 = transactions_pos.groupby('customer_id').apply(lambda x : x.groupby('mcc_code')['amount'].mean()).unstack().fillna(0)\n",
    "FP5.rename(columns=lambda x: 'FP_mean_'+str(x), inplace=True)\n",
    "\n",
    "# Количество tr_type\n",
    "FP6 = transactions_pos.groupby('customer_id') \\\n",
    "                    .apply(lambda x: x[['tr_type']].unstack().value_counts()) \\\n",
    "                    .unstack() \\\n",
    "                    .fillna(0)\n",
    "FP6.rename(columns=lambda x: 'FP_tr_type_value_counts_'+str(x), inplace=True)\n",
    "\n",
    "# Сумма покупок по каждой tr_type\n",
    "FP7 = transactions_pos.groupby('customer_id').apply(lambda x : x.groupby('tr_type')['amount'].sum()).unstack().fillna(0)\n",
    "FP7.rename(columns=lambda x: 'FP_tr_type_sum_'+str(x), inplace=True)\n",
    "\n",
    "\n",
    "# Max покупока по каждой tr_type\n",
    "FP8 = transactions_pos.groupby('customer_id').apply(lambda x : x.groupby('tr_type')['amount'].max()).unstack().fillna(0)\n",
    "FP8.rename(columns=lambda x: 'FP_tr_type_max_'+str(x), inplace=True)\n",
    "\n",
    "# Std покупока по каждой tr_type\n",
    "FP9 = transactions_pos.groupby('customer_id').apply(lambda x : x.groupby('tr_type')['amount'].std()).unstack().fillna(0)\n",
    "FP9.rename(columns=lambda x: 'FP_tr_type_std_'+str(x), inplace=True)\n",
    "\n",
    "# Mean покупока по каждой tr_type\n",
    "FP10 = transactions_pos.groupby('customer_id').apply(lambda x : x.groupby('tr_type')['amount'].mean()).unstack().fillna(0)\n",
    "FP10.rename(columns=lambda x: 'FP_tr_type_mean_'+str(x), inplace=True)\n",
    "\n",
    "# Сколько дней клиент\n",
    "FP11 = pd.DataFrame({\n",
    "        'FP_customer_exp_days':transactions_pos.groupby('customer_id')['day'].apply(lambda x : max(x) - min(x))\n",
    "        })\n",
    "\n",
    "# Количество покупок по дням недели\n",
    "FP12 = transactions_pos.groupby('customer_id').apply(lambda x : x.groupby('weekday')['amount'].mean()).unstack().fillna(0)\n",
    "FP12.rename(columns=lambda x: 'FP_mean_transactions_pos_count_by_week_day_'+str(x), inplace=True)\n",
    "\n",
    "# Транзакции по часам\n",
    "FP13 = transactions_pos.groupby('customer_id').apply(lambda x : x.groupby('h_date')['amount'].mean()).unstack().fillna(0)\n",
    "FP13.rename(columns=lambda x: 'FP_mean_transactions_pos_count_by_h_'+str(x), inplace=True)"
   ]
  },
  {
   "cell_type": "code",
   "execution_count": null,
   "metadata": {
    "collapsed": true
   },
   "outputs": [],
   "source": [
    "FN1 = transactions_neg.groupby('customer_id') \\\n",
    "                    .apply(lambda x: x[['mcc_code']].unstack().value_counts()) \\\n",
    "                    .unstack() \\\n",
    "                    .fillna(0)\n",
    "FN1.rename(columns=lambda x: 'FN_mcc_code_value_counts_'+str(x), inplace=True)\n",
    "\n",
    "# Сумма покупок по каждой категории\n",
    "FN2 = transactions_neg.groupby('customer_id').apply(lambda x : x.groupby('mcc_code')['amount'].sum()).unstack().fillna(0)\n",
    "FN2.rename(columns=lambda x: 'FN_sum_'+str(x), inplace=True)\n",
    "\n",
    "# Максимальная покупока по каждой категории\n",
    "\n",
    "FN3 = transactions_neg.groupby('customer_id').apply(lambda x : x.groupby('mcc_code')['amount'].max()).unstack().fillna(0)\n",
    "FN3.rename(columns=lambda x: 'FN_max_'+str(x), inplace=True)\n",
    "\n",
    "# Дисперсия покупока по каждой категории\n",
    "\n",
    "FN4 = transactions_neg.groupby('customer_id').apply(lambda x : x.groupby('mcc_code')['amount'].std()).unstack().fillna(0)\n",
    "FN4.rename(columns=lambda x: 'FN_std_'+str(x), inplace=True)\n",
    "\n",
    "# Средняя покупка по каждой категории\n",
    "\n",
    "FN5 = transactions_neg.groupby('customer_id').apply(lambda x : x.groupby('mcc_code')['amount'].mean()).unstack().fillna(0)\n",
    "FN5.rename(columns=lambda x: 'FN_mean_'+str(x), inplace=True)\n",
    "\n",
    "# Количество tr_type\n",
    "FN6 = transactions_neg.groupby('customer_id') \\\n",
    "                    .apply(lambda x: x[['tr_type']].unstack().value_counts()) \\\n",
    "                    .unstack() \\\n",
    "                    .fillna(0)\n",
    "FN6.rename(columns=lambda x: 'FN_tr_type_value_counts_'+str(x), inplace=True)\n",
    "\n",
    "# Сумма покупок по каждой tr_type\n",
    "FN7 = transactions_neg.groupby('customer_id').apply(lambda x : x.groupby('tr_type')['amount'].sum()).unstack().fillna(0)\n",
    "FN7.rename(columns=lambda x: 'FN_tr_type_sum_'+str(x), inplace=True)\n",
    "\n",
    "\n",
    "# Max покупока по каждой tr_type\n",
    "FN8 = transactions_neg.groupby('customer_id').apply(lambda x : x.groupby('tr_type')['amount'].max()).unstack().fillna(0)\n",
    "FN8.rename(columns=lambda x: 'FN_tr_type_max_'+str(x), inplace=True)\n",
    "\n",
    "# Std покупока по каждой tr_type\n",
    "FN9 = transactions_neg.groupby('customer_id').apply(lambda x : x.groupby('tr_type')['amount'].std()).unstack().fillna(0)\n",
    "FN9.rename(columns=lambda x: 'FN_tr_type_std_'+str(x), inplace=True)\n",
    "\n",
    "# Mean покупока по каждой tr_type\n",
    "FN10 = transactions_neg.groupby('customer_id').apply(lambda x : x.groupby('tr_type')['amount'].mean()).unstack().fillna(0)\n",
    "FN10.rename(columns=lambda x: 'FN_tr_type_mean_'+str(x), inplace=True)\n",
    "\n",
    "# Сколько дней клиент\n",
    "FN11 = pd.DataFrame({\n",
    "        'FN_customer_exp_days':transactions_neg.groupby('customer_id')['day'].apply(lambda x : max(x) - min(x))\n",
    "        })\n",
    "\n",
    "# Количество покупок по дням недели\n",
    "FN12 = transactions_neg.groupby('customer_id').apply(lambda x : x.groupby('weekday')['amount'].mean()).unstack().fillna(0)\n",
    "FN12.rename(columns=lambda x: 'FN_mean_transactions_neg_count_by_week_day_'+str(x), inplace=True)\n",
    "\n",
    "# Транзакции по часам\n",
    "FN13 = transactions_neg.groupby('customer_id').apply(lambda x : x.groupby('h_date')['amount'].mean()).unstack().fillna(0)\n",
    "FN13.rename(columns=lambda x: 'FN_mean_transactions_neg_count_by_h_'+str(x), inplace=True)"
   ]
  },
  {
   "cell_type": "markdown",
   "metadata": {},
   "source": [
    "Сливаем все группы признаков в один DataFrame"
   ]
  },
  {
   "cell_type": "code",
   "execution_count": null,
   "metadata": {
    "collapsed": true
   },
   "outputs": [],
   "source": [
    "XFeatured = pd.concat([X,F2,F3,F4,F5,F6,F7,F8,F9,F10,F11,F12,F13,FP1,FP2,FP3,FP4,FP5,FP6,FP7,FP8,FP9,FP10,FP11,FP12,FP13,FN1,FN2,FN3,FN4,FN5,FN6,FN7,FN8,FN9,FN10,FN11,FN12,FN13], axis=1, join='inner')\n",
    "del X,F2,F3,F4,F5,F6,F7,F8,F9,F10,F11,F12,F13,FP1,FP2,FP3,FP4,FP5,FP6,FP7,FP8,FP9,FP10,FP11,FP12,FP13,FN1,FN2,FN3,FN4,FN5,FN6,FN7,FN8,FN9,FN10,FN11,FN12,FN13"
   ]
  },
  {
   "cell_type": "code",
   "execution_count": null,
   "metadata": {
    "collapsed": true
   },
   "outputs": [],
   "source": [
    "XFeatured.columns"
   ]
  },
  {
   "cell_type": "markdown",
   "metadata": {},
   "source": [
    "Делим на train, test, target"
   ]
  },
  {
   "cell_type": "code",
   "execution_count": null,
   "metadata": {
    "collapsed": true
   },
   "outputs": [],
   "source": [
    "customers_gender = customers_gender.set_index('customer_id')\n",
    "target = customers_gender.loc[XFeatured.index].gender\n",
    "target = target.reset_index()\n",
    "\n",
    "del target['customer_id']\n",
    "target = target.dropna(0)\n",
    "#target = target.values[:,0]\n",
    "\n",
    "train = XFeatured.reset_index()\n",
    "train = train.loc[target.index].set_index('customer_id')\n",
    "test = XFeatured.drop(customers_gender.index)\n",
    "\n",
    "del XFeatured"
   ]
  },
  {
   "cell_type": "markdown",
   "metadata": {},
   "source": [
    "Можно сохранять промежуточные вычисления\n",
    "```python\n",
    "train.to_csv('../data/processed/train.csv', index=False)\n",
    "test.to_csv('../data/processed/test.csv', index=False)\n",
    "target.to_csv('../data/processed/target.csv', index=False)\n",
    "```"
   ]
  },
  {
   "cell_type": "markdown",
   "metadata": {},
   "source": [
    "Обернем наш классификатор в функцию ```apply_model```, которая подходит и для генерации submit, и для валидации"
   ]
  },
  {
   "cell_type": "code",
   "execution_count": null,
   "metadata": {
    "collapsed": true
   },
   "outputs": [],
   "source": [
    "def apply_model(tr, te, target):\n",
    "    clf = xgboost.XGBClassifier(seed=0, learning_rate=0.02, max_depth=5, subsample=0.6815, colsample_bytree=0.701, n_estimators=1000, nthread=4)\n",
    "    clf.fit(tr, target)\n",
    "    \n",
    "    return clf.predict_proba(te)[:, 1]"
   ]
  },
  {
   "cell_type": "markdown",
   "metadata": {},
   "source": [
    "Делаем валидацию результата"
   ]
  },
  {
   "cell_type": "code",
   "execution_count": null,
   "metadata": {
    "collapsed": true
   },
   "outputs": [],
   "source": [
    "scores = []\n",
    "N_SPLITS = 2\n",
    "skf = StratifiedKFold(n_splits=N_SPLITS, random_state=0, shuffle=True)\n",
    "for train_index, test_index in tqdm_notebook(skf.split(train.values, target.values[:,0]), total=N_SPLITS):\n",
    "    X_train, X_test = train.iloc[train_index], train.iloc[test_index]\n",
    "    y_train, y_test = target.iloc[train_index].values[:,0], target.iloc[test_index].values[:,0]\n",
    "    \n",
    "    scores += [ roc_auc_score(y_test, apply_model(X_train.copy(), X_test.copy(), y_train.copy())) ]\n",
    "    \n",
    "print np.mean(scores)"
   ]
  },
  {
   "cell_type": "markdown",
   "metadata": {},
   "source": [
    "Делаем submit (в довесок сохраняем текущий блокнот + код функции apply_model)"
   ]
  },
  {
   "cell_type": "code",
   "execution_count": null,
   "metadata": {
    "collapsed": true
   },
   "outputs": [],
   "source": [
    "import time\n",
    "import datetime\n",
    "import inspect\n",
    "from shutil import copyfile\n",
    "\n",
    "submit_data = pd.DataFrame(test.index, columns=['customer_id'])\n",
    "submit_data['gender'] = apply_model(train.copy(), test.copy(), target.copy())\n",
    "\n",
    "ts = time.time()\n",
    "ts = datetime.datetime.fromtimestamp(ts).strftime('%Y-%m-%d %H:%M:%S')\n",
    "\n",
    "submit_data.to_csv('../data/submits/sbm_' + ts + '.csv', index=False)\n",
    "with open('../data/submits/sbm_' + ts + '.apply_model.py','w') as f:\n",
    "    for line in inspect.getsourcelines(apply_model)[0]:\n",
    "        f.write(line)\n",
    "copyfile('task1.ipynb', '../data/submits/sbm_' + ts + '.notebook.ipynb')"
   ]
  },
  {
   "cell_type": "markdown",
   "metadata": {},
   "source": [
    "Смешиваем наше решение с submit'ом товарища const (Konstantin Ivanin)"
   ]
  },
  {
   "cell_type": "code",
   "execution_count": null,
   "metadata": {
    "collapsed": true
   },
   "outputs": [],
   "source": [
    "from scipy.stats import rankdata\n",
    "\n",
    "\n",
    "r_ans = pd.read_csv('../data/raw/task1_solution_by_const.csv')\n",
    "\n",
    "blended_submit = submit_data.copy()\n",
    "blended_submit['gender'] = rankdata(r_ans['gender'].values) + rankdata(submit_data['gender'].values)\n",
    "blended_submit.to_csv('../data/submits/sbm_' + ts + '_blended.csv', index=False)"
   ]
  }
 ],
 "metadata": {
  "kernelspec": {
   "display_name": "Python 2",
   "language": "python",
   "name": "python2"
  },
  "language_info": {
   "codemirror_mode": {
    "name": "ipython",
    "version": 2
   },
   "file_extension": ".py",
   "mimetype": "text/x-python",
   "name": "python",
   "nbconvert_exporter": "python",
   "pygments_lexer": "ipython2",
   "version": "2.7.10"
  },
  "latex_envs": {
   "bibliofile": "biblio.bib",
   "cite_by": "apalike",
   "current_citInitial": 1,
   "eqLabelWithNumbers": true,
   "eqNumInitial": 0
  },
  "widgets": {
   "state": {},
   "version": "1.1.2"
  }
 },
 "nbformat": 4,
 "nbformat_minor": 0
}
